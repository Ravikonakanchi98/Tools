{
  "metadata": {
    "kernelspec": {
      "name": "python",
      "display_name": "Python (Pyodide)",
      "language": "python"
    },
    "language_info": {
      "codemirror_mode": {
        "name": "python",
        "version": 3
      },
      "file_extension": ".py",
      "mimetype": "text/x-python",
      "name": "python",
      "nbconvert_exporter": "python",
      "pygments_lexer": "ipython3",
      "version": "3.8"
    }
  },
  "nbformat_minor": 4,
  "nbformat": 4,
  "cells": [
    {
      "cell_type": "markdown",
      "source": "### Data Science Tools and Ecosystem",
      "metadata": {}
    },
    {
      "cell_type": "markdown",
      "source": "Data science is a multidisciplinary field that combines elements of statistics, mathematics, computer science, and domain knowledge to extract insights and knowledge from data in various forms. It encompasses a range of techniques, tools, and methodologies aimed at understanding complex data sets, uncovering patterns, making predictions, and driving decision-making processes.\r\n\r\nAt its core, data science involves several key processes:\r\n\r\nData Collection: Gathering relevant data from various sources, including databases, spreadsheets, web APIs, sensors, and more.\r\nData Cleaning and Preprocessing: This step involves cleaning, formatting, and transforming raw data into a usable format. It includes tasks such as handling missing values, removing outliers, and standardizing data types.\r\nExploratory Data Analysis (EDA): Exploring and visualizing the data to gain insights into its characteristics, distributions, and relationships between variables. EDA helps identify patterns, trends, and anomalies in the data.\r\nStatistical Analysis and Modeling: Applying statistical techniques and machine learning algorithms to analyze data, build predictive models, and uncover meaningful patterns and relationships.\r\nModel Evaluation and Validation: Assessing the performance of models using metrics and techniques such as cross-validation to ensure they generalize well to new data.\r\nInterpretation and Communication: Interpreting the results of data analysis and modeling to derive actionable insights and communicate findiake to sta effectively.\nectively.",
      "metadata": {}
    },
    {
      "cell_type": "markdown",
      "source": "Some of the popular languages in data Science are python, R, SQL.                                                             \nPython:It is the most widely used and most popular programming language used in the data science industry.        \nR programming:R is a programming language and environment specifically designed for statistical computing and graphics.    \nSQL :SQL, or Structured Query Language, is a standard programming language used for managing and manipulating relational databases.",
      "metadata": {}
    },
    {
      "cell_type": "markdown",
      "source": "Data science libraries play a crucial role in enabling data scientists to perform various tasks such as \ndata manipulation, analysis, visualization, and machine learning. \nNumPy: NumPy is a fundamental library for numerical computing in Python.        \npandas: pandas is a powerful library for data manipulation and analysis in Python.   \nMatplotlib: Matplotlib is a versatile library for creating static, interactive, and publication-quality visualizations in Python.\n",
      "metadata": {}
    },
    {
      "cell_type": "markdown",
      "source": "## Table\n\n| Data Science Tools |\n| ------------------ |\n| Jupyter Notebook   |\n| Apache Spark       |\n| TensorFlow         |\n",
      "metadata": {}
    },
    {
      "cell_type": "markdown",
      "source": "### Below are a few examples of evaluating arithmetic expressions in python",
      "metadata": {}
    },
    {
      "cell_type": "markdown",
      "source": "Example :",
      "metadata": {}
    },
    {
      "cell_type": "code",
      "source": "(3*4)+5",
      "metadata": {
        "trusted": true
      },
      "outputs": [
        {
          "execution_count": 9,
          "output_type": "execute_result",
          "data": {
            "text/plain": "17"
          },
          "metadata": {}
        }
      ],
      "execution_count": 9
    },
    {
      "cell_type": "markdown",
      "source": "Convert 200 minutes to hours by diving by 60 ",
      "metadata": {}
    },
    {
      "cell_type": "code",
      "source": "200 / 60 ",
      "metadata": {
        "trusted": true
      },
      "outputs": [
        {
          "execution_count": 10,
          "output_type": "execute_result",
          "data": {
            "text/plain": "3.3333333333333335"
          },
          "metadata": {}
        }
      ],
      "execution_count": 10
    },
    {
      "cell_type": "markdown",
      "source": "__Objectives:__",
      "metadata": {}
    },
    {
      "cell_type": "markdown",
      "source": "- Fundamental Concepts: Provide a solid understanding of the fundamental concepts, principles, and techniques of data science, including data manipulation, statistical analysis, machine learning, and data visualization.\n- Programming Skills: Develop proficiency in programming languages commonly used in data science, such as Python and R, as well as familiarity with related tools and libraries for data analysis and modeling.\n- Data Handling and Preprocessing: Teach techniques for acquiring, cleaning, preprocessing, and transforming data from various sources to make it suitable for analysis and modeling.\n- Machine Learning: Introduce machine learning algorithms and methodologies for supervised and unsupervised learning, including classification, regression, clustering, dimensionality reduction, and model evaluation.\n  ",
      "metadata": {}
    },
    {
      "cell_type": "markdown",
      "source": "## Author : Ravi",
      "metadata": {}
    },
    {
      "cell_type": "code",
      "source": "",
      "metadata": {
        "trusted": true
      },
      "outputs": [],
      "execution_count": null
    }
  ]
}